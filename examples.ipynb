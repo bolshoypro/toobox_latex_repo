{
 "cells": [
  {
   "cell_type": "code",
   "execution_count": 1,
   "id": "09bedca7-731f-4d55-98c1-f4a535983e7d",
   "metadata": {},
   "outputs": [],
   "source": [
    "import pandas as pd\n",
    "import numpy as np\n",
    "import re\n",
    "from modules.toolbox_latex import examples_to_frame, write_examples"
   ]
  },
  {
   "cell_type": "code",
   "execution_count": 3,
   "id": "d4ec2305-4a70-4586-80f5-39a23ed80945",
   "metadata": {},
   "outputs": [],
   "source": [
    "PATH = 'Texts.txt'"
   ]
  },
  {
   "cell_type": "code",
   "execution_count": 4,
   "id": "48aff505-d7f1-4319-9ff4-6d7105f5eb2e",
   "metadata": {},
   "outputs": [],
   "source": [
    "dataf = examples_to_frame(PATH)"
   ]
  },
  {
   "cell_type": "code",
   "execution_count": 5,
   "id": "2a33d697-adcf-4fe1-abfd-15fc240a762e",
   "metadata": {},
   "outputs": [],
   "source": [
    "dataf['ref'] = dataf.index"
   ]
  },
  {
   "cell_type": "code",
   "execution_count": 6,
   "id": "4860eeed-37f5-4369-9248-e3b49b385b9d",
   "metadata": {},
   "outputs": [],
   "source": [
    "write_examples(dataf, 'examples')"
   ]
  }
 ],
 "metadata": {
  "kernelspec": {
   "display_name": "Python 3 (ipykernel)",
   "language": "python",
   "name": "python3"
  },
  "language_info": {
   "codemirror_mode": {
    "name": "ipython",
    "version": 3
   },
   "file_extension": ".py",
   "mimetype": "text/x-python",
   "name": "python",
   "nbconvert_exporter": "python",
   "pygments_lexer": "ipython3",
   "version": "3.10.9"
  }
 },
 "nbformat": 4,
 "nbformat_minor": 5
}
